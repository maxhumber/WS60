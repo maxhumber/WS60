{
 "cells": [
  {
   "cell_type": "markdown",
   "metadata": {},
   "source": [
    "### Quick HTML"
   ]
  },
  {
   "cell_type": "code",
   "execution_count": 1,
   "metadata": {},
   "outputs": [],
   "source": [
    "with open('../data/starter.html', 'r') as f:\n",
    "    html = f.read()"
   ]
  },
  {
   "cell_type": "code",
   "execution_count": 2,
   "metadata": {},
   "outputs": [
    {
     "name": "stdout",
     "output_type": "stream",
     "text": [
      "<!DOCTYPE html>\n",
      "<html>\n",
      "  <head>\n",
      "    <title></title>\n",
      "  </head>\n",
      "  <body>\n",
      "  </body>\n",
      "</html>\n",
      "\n"
     ]
    }
   ],
   "source": [
    "print(html)"
   ]
  },
  {
   "cell_type": "code",
   "execution_count": 3,
   "metadata": {},
   "outputs": [],
   "source": [
    "with open('../data/bad.html', 'r') as f:\n",
    "    html = f.read()"
   ]
  },
  {
   "cell_type": "code",
   "execution_count": 4,
   "metadata": {},
   "outputs": [],
   "source": [
    "from IPython.display import HTML"
   ]
  },
  {
   "cell_type": "code",
   "execution_count": 5,
   "metadata": {},
   "outputs": [
    {
     "data": {
      "text/html": [
       "<!DOCTYPE html>\n",
       "<html lang=\"en\">\n",
       "  <head>\n",
       "    <meta charset=\"utf-8\">\n",
       "    <title>This is HTML</title>\n",
       "  </head>\n",
       "  <body>\n",
       "    <h1>It really sucks...</h1>\n",
       "    <div class='foo'>...but it is functional <b>HTML</b></div>\n",
       "    <br />\n",
       "    <div>And just for good measure, here's even more of it</div>\n",
       "    <p>And an image!</p>\n",
       "    <img src=\"https://media.giphy.com/media/3o6Zt4lX2VZGSK4Vtm/giphy.gif\" height=\"100px\">\n",
       "    <p id='bar'>Isn't HTML great?!</p>\n",
       "  </body>\n",
       "</html>\n"
      ],
      "text/plain": [
       "<IPython.core.display.HTML object>"
      ]
     },
     "execution_count": 5,
     "metadata": {},
     "output_type": "execute_result"
    }
   ],
   "source": [
    "HTML(html)"
   ]
  },
  {
   "cell_type": "code",
   "execution_count": 6,
   "metadata": {},
   "outputs": [
    {
     "name": "stdout",
     "output_type": "stream",
     "text": [
      "<!DOCTYPE html>\n",
      "<html lang=\"en\">\n",
      "  <head>\n",
      "    <meta charset=\"utf-8\">\n",
      "    <title>This is HTML</title>\n",
      "  </head>\n",
      "  <body>\n",
      "    <h1>It really sucks...</h1>\n",
      "    <div class='foo'>...but it is functional <b>HTML</b></div>\n",
      "    <br />\n",
      "    <div>And just for good measure, here's even more of it</div>\n",
      "    <p>And an image!</p>\n",
      "    <img src=\"https://media.giphy.com/media/3o6Zt4lX2VZGSK4Vtm/giphy.gif\" height=\"100px\">\n",
      "    <p id='bar'>Isn't HTML great?!</p>\n",
      "  </body>\n",
      "</html>\n",
      "\n"
     ]
    }
   ],
   "source": [
    "print(html)"
   ]
  },
  {
   "cell_type": "code",
   "execution_count": 7,
   "metadata": {},
   "outputs": [],
   "source": [
    "from gazpacho import Soup"
   ]
  },
  {
   "cell_type": "code",
   "execution_count": 8,
   "metadata": {},
   "outputs": [],
   "source": [
    "soup = Soup(html)"
   ]
  },
  {
   "cell_type": "code",
   "execution_count": 9,
   "metadata": {},
   "outputs": [
    {
     "data": {
      "text/plain": [
       "[<p>And an image!</p>, <p id=\"bar\">Isn't HTML great?!</p>]"
      ]
     },
     "execution_count": 9,
     "metadata": {},
     "output_type": "execute_result"
    }
   ],
   "source": [
    "soup.find('p')"
   ]
  },
  {
   "cell_type": "code",
   "execution_count": 10,
   "metadata": {},
   "outputs": [
    {
     "data": {
      "text/plain": [
       "<p id=\"bar\">Isn't HTML great?!</p>"
      ]
     },
     "execution_count": 10,
     "metadata": {},
     "output_type": "execute_result"
    }
   ],
   "source": [
    "soup.find('p', {'id': 'bar'})"
   ]
  },
  {
   "cell_type": "code",
   "execution_count": 11,
   "metadata": {},
   "outputs": [
    {
     "data": {
      "text/plain": [
       "\"Isn't HTML great?!\""
      ]
     },
     "execution_count": 11,
     "metadata": {},
     "output_type": "execute_result"
    }
   ],
   "source": [
    "soup.find('p', {'id': 'bar'}).text"
   ]
  },
  {
   "cell_type": "code",
   "execution_count": 12,
   "metadata": {},
   "outputs": [
    {
     "data": {
      "text/plain": [
       "[<div class=\"foo\">\n",
       "   ...but it is functional \n",
       "   <b>HTML</b>\n",
       " </div>,\n",
       " <div>And just for good measure, here's even more of it</div>]"
      ]
     },
     "execution_count": 12,
     "metadata": {},
     "output_type": "execute_result"
    }
   ],
   "source": [
    "soup.find('div')"
   ]
  },
  {
   "cell_type": "code",
   "execution_count": 13,
   "metadata": {},
   "outputs": [
    {
     "data": {
      "text/plain": [
       "<div class=\"foo\">\n",
       "  ...but it is functional \n",
       "  <b>HTML</b>\n",
       "</div>"
      ]
     },
     "execution_count": 13,
     "metadata": {},
     "output_type": "execute_result"
    }
   ],
   "source": [
    "soup.find('div', mode='first')"
   ]
  },
  {
   "cell_type": "code",
   "execution_count": 14,
   "metadata": {},
   "outputs": [
    {
     "data": {
      "text/plain": [
       "'...but it is functional'"
      ]
     },
     "execution_count": 14,
     "metadata": {},
     "output_type": "execute_result"
    }
   ],
   "source": [
    "soup.find('div', {'class': 'foo'}).text"
   ]
  },
  {
   "cell_type": "code",
   "execution_count": 15,
   "metadata": {},
   "outputs": [
    {
     "data": {
      "text/plain": [
       "'HTML'"
      ]
     },
     "execution_count": 15,
     "metadata": {},
     "output_type": "execute_result"
    }
   ],
   "source": [
    "soup.find('b').text"
   ]
  },
  {
   "cell_type": "code",
   "execution_count": 16,
   "metadata": {},
   "outputs": [
    {
     "data": {
      "text/plain": [
       "'...but it is functional HTML'"
      ]
     },
     "execution_count": 16,
     "metadata": {},
     "output_type": "execute_result"
    }
   ],
   "source": [
    "soup.find('div', {'class': 'foo'}).strip()"
   ]
  },
  {
   "cell_type": "markdown",
   "metadata": {},
   "source": [
    "### Status Codes"
   ]
  },
  {
   "cell_type": "markdown",
   "metadata": {},
   "source": [
    "- 1xx Informational\n",
    "- 2xx Sucess\n",
    "    - 200 - OK\n",
    "- 3xx Redirection\n",
    "- 4xx Client Error (a.k.a. **your fault**)\n",
    "    - 400 - Bad Request\n",
    "    - 401 - Unauthorized\n",
    "    - 403 - Forbidden\n",
    "    - 404 - Not Found\n",
    "    - 418 - 🍵\n",
    "    - 429 - Too many requests\n",
    "- 5xx Server Error (a.k.a. **not** your fault)\n",
    "    - 500 - Internal Server Error\n",
    "    - 501 - Not Implemented\n",
    "    - 502 - Bad Gateway\n",
    "    - 503 - Service Unavailable\n",
    "    - 504 - Gateway Timeout"
   ]
  },
  {
   "cell_type": "code",
   "execution_count": 17,
   "metadata": {},
   "outputs": [],
   "source": [
    "from gazpacho import get"
   ]
  },
  {
   "cell_type": "code",
   "execution_count": 18,
   "metadata": {},
   "outputs": [
    {
     "ename": "HTTPError",
     "evalue": "403 - Forbidden",
     "output_type": "error",
     "traceback": [
      "\u001b[0;31m---------------------------------------------------------------------------\u001b[0m",
      "\u001b[0;31mHTTPError\u001b[0m                                 Traceback (most recent call last)",
      "Input \u001b[0;32mIn [18]\u001b[0m, in \u001b[0;36m<cell line: 1>\u001b[0;34m()\u001b[0m\n\u001b[0;32m----> 1\u001b[0m \u001b[43mget\u001b[49m\u001b[43m(\u001b[49m\u001b[38;5;124;43m'\u001b[39;49m\u001b[38;5;124;43mhttps://httpstat.us/403\u001b[39;49m\u001b[38;5;124;43m'\u001b[39;49m\u001b[43m)\u001b[49m\n",
      "File \u001b[0;32m~/Courses/WS60/.venv/lib/python3.9/site-packages/gazpacho/get.py:45\u001b[0m, in \u001b[0;36mget\u001b[0;34m(url, params, headers)\u001b[0m\n\u001b[1;32m     43\u001b[0m             content \u001b[38;5;241m=\u001b[39m json\u001b[38;5;241m.\u001b[39mloads(content)\n\u001b[1;32m     44\u001b[0m \u001b[38;5;28;01mexcept\u001b[39;00m UrllibHTTPError \u001b[38;5;28;01mas\u001b[39;00m e:\n\u001b[0;32m---> 45\u001b[0m     \u001b[38;5;28;01mraise\u001b[39;00m HTTPError(e\u001b[38;5;241m.\u001b[39mcode, e\u001b[38;5;241m.\u001b[39mmsg) \u001b[38;5;28;01mfrom\u001b[39;00m \u001b[38;5;28mNone\u001b[39m  \u001b[38;5;66;03m# type: ignore\u001b[39;00m\n\u001b[1;32m     46\u001b[0m \u001b[38;5;28;01mreturn\u001b[39;00m content\n",
      "\u001b[0;31mHTTPError\u001b[0m: 403 - Forbidden"
     ]
    }
   ],
   "source": [
    "get('https://httpstat.us/403')"
   ]
  },
  {
   "cell_type": "code",
   "execution_count": null,
   "metadata": {},
   "outputs": [],
   "source": [
    "get('https://httpstat.us/404')"
   ]
  },
  {
   "cell_type": "code",
   "execution_count": null,
   "metadata": {},
   "outputs": [],
   "source": [
    "get('https://httpstat.us/418')"
   ]
  },
  {
   "cell_type": "code",
   "execution_count": null,
   "metadata": {},
   "outputs": [],
   "source": [
    "get('https://httpstat.us/503')"
   ]
  },
  {
   "cell_type": "code",
   "execution_count": null,
   "metadata": {},
   "outputs": [],
   "source": [
    "get('https://httpstat.us/500')"
   ]
  },
  {
   "cell_type": "code",
   "execution_count": null,
   "metadata": {},
   "outputs": [],
   "source": [
    "get('https://httpstat.us/200')"
   ]
  },
  {
   "cell_type": "markdown",
   "metadata": {},
   "source": [
    "### Structuring a `get` request"
   ]
  },
  {
   "cell_type": "code",
   "execution_count": 19,
   "metadata": {},
   "outputs": [
    {
     "data": {
      "text/plain": [
       "{'args': {'colour': 'black', 'year': '2020'},\n",
       " 'data': '',\n",
       " 'files': {},\n",
       " 'form': {},\n",
       " 'headers': {'Accept-Encoding': 'identity',\n",
       "  'Host': 'httpbin.org',\n",
       "  'User-Agent': 'Mozilla/5.0 (Macintosh; Intel Mac OS X 10.16; rv:80.0) Gecko/20100101 Firefox/80.0',\n",
       "  'X-Amzn-Trace-Id': 'Root=1-629cc641-210b91987439b59542e5516c'},\n",
       " 'json': None,\n",
       " 'method': 'GET',\n",
       " 'origin': '99.239.126.170',\n",
       " 'url': 'https://httpbin.org/anything?year=2020&colour=black'}"
      ]
     },
     "execution_count": 19,
     "metadata": {},
     "output_type": "execute_result"
    }
   ],
   "source": [
    "url = 'https://httpbin.org/anything?year=2020&colour=black'\n",
    "\n",
    "get(url)"
   ]
  },
  {
   "cell_type": "code",
   "execution_count": 20,
   "metadata": {},
   "outputs": [
    {
     "data": {
      "text/plain": [
       "{'args': {'colour': 'black', 'year': '2020'},\n",
       " 'data': '',\n",
       " 'files': {},\n",
       " 'form': {},\n",
       " 'headers': {'Accept-Encoding': 'identity',\n",
       "  'Host': 'httpbin.org',\n",
       "  'User-Agent': 'gazpacho',\n",
       "  'X-Amzn-Trace-Id': 'Root=1-629cc642-5c7179346f15c31a0026e227'},\n",
       " 'json': None,\n",
       " 'method': 'GET',\n",
       " 'origin': '99.239.126.170',\n",
       " 'url': 'https://httpbin.org/anything?year=2020&colour=black'}"
      ]
     },
     "execution_count": 20,
     "metadata": {},
     "output_type": "execute_result"
    }
   ],
   "source": [
    "url = 'https://httpbin.org/anything'\n",
    "\n",
    "r = get(\n",
    "    url, \n",
    "    params={'year': 2020, 'colour': 'black'}, \n",
    "    headers={'User-Agent': 'gazpacho'}\n",
    ")\n",
    "\n",
    "r"
   ]
  },
  {
   "cell_type": "markdown",
   "metadata": {},
   "source": [
    "### Exercise"
   ]
  },
  {
   "cell_type": "markdown",
   "metadata": {},
   "source": [
    "Build a `get` request that hits [httpbin.org](https://httpbin.org) and includes and sends back a payload for `pikachu` (`pokemon`) and `150` (`attack`)."
   ]
  },
  {
   "cell_type": "code",
   "execution_count": null,
   "metadata": {},
   "outputs": [],
   "source": [
    "%load ../solutions/0-code.py"
   ]
  }
 ],
 "metadata": {
  "kernelspec": {
   "display_name": "WS60.venv",
   "language": "python",
   "name": "ws60.venv"
  },
  "language_info": {
   "codemirror_mode": {
    "name": "ipython",
    "version": 3
   },
   "file_extension": ".py",
   "mimetype": "text/x-python",
   "name": "python",
   "nbconvert_exporter": "python",
   "pygments_lexer": "ipython3",
   "version": "3.9.11"
  }
 },
 "nbformat": 4,
 "nbformat_minor": 2
}

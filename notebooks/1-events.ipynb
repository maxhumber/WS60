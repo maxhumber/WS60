{
 "cells": [
  {
   "cell_type": "code",
   "execution_count": 1,
   "metadata": {},
   "outputs": [],
   "source": [
    "from gazpacho import get, Soup"
   ]
  },
  {
   "cell_type": "code",
   "execution_count": 2,
   "metadata": {},
   "outputs": [],
   "source": [
    "base = 'https://www.python.org'\n",
    "url = base + '/events/'"
   ]
  },
  {
   "cell_type": "code",
   "execution_count": 3,
   "metadata": {},
   "outputs": [],
   "source": [
    "html = get(url)"
   ]
  },
  {
   "cell_type": "code",
   "execution_count": 4,
   "metadata": {},
   "outputs": [],
   "source": [
    "soup = Soup(html)"
   ]
  },
  {
   "cell_type": "code",
   "execution_count": 5,
   "metadata": {},
   "outputs": [],
   "source": [
    "ul = soup.find('ul', {'class': 'list-recent-events menu'})"
   ]
  },
  {
   "cell_type": "code",
   "execution_count": 6,
   "metadata": {},
   "outputs": [
    {
     "data": {
      "text/plain": [
       "20"
      ]
     },
     "execution_count": 6,
     "metadata": {},
     "output_type": "execute_result"
    }
   ],
   "source": [
    "lis = ul.find('li')\n",
    "len(lis)"
   ]
  },
  {
   "cell_type": "code",
   "execution_count": 7,
   "metadata": {},
   "outputs": [],
   "source": [
    "li = lis[0]"
   ]
  },
  {
   "cell_type": "code",
   "execution_count": 8,
   "metadata": {},
   "outputs": [
    {
     "name": "stdout",
     "output_type": "stream",
     "text": [
      "<li>\n",
      "  <h3 class=\"event-title\">\n",
      "    <a href=\"/events/python-events/1093/\">PyCon Sweden 2021</a>\n",
      "  </h3>\n",
      "  <p>\n",
      "    <time datetime=\"2021-10-21T00:00:00+00:00\">\n",
      "      21 Oct. – 22 Oct. \n",
      "      <span class=\"say-no-more\"> 2021</span>\n",
      "    </time>\n",
      "    <span class=\"event-location\">online</span>\n",
      "  </p>\n",
      "</li>\n"
     ]
    }
   ],
   "source": [
    "print(li)"
   ]
  },
  {
   "cell_type": "code",
   "execution_count": 9,
   "metadata": {},
   "outputs": [
    {
     "data": {
      "text/plain": [
       "'PyCon Sweden 2021'"
      ]
     },
     "execution_count": 9,
     "metadata": {},
     "output_type": "execute_result"
    }
   ],
   "source": [
    "li.find('a').text"
   ]
  },
  {
   "cell_type": "code",
   "execution_count": 10,
   "metadata": {},
   "outputs": [
    {
     "data": {
      "text/plain": [
       "'/events/python-events/1093/'"
      ]
     },
     "execution_count": 10,
     "metadata": {},
     "output_type": "execute_result"
    }
   ],
   "source": [
    "li.find('a').attrs['href']"
   ]
  },
  {
   "cell_type": "code",
   "execution_count": 11,
   "metadata": {},
   "outputs": [
    {
     "data": {
      "text/plain": [
       "'2021-10-21T00:00:00+00:00'"
      ]
     },
     "execution_count": 11,
     "metadata": {},
     "output_type": "execute_result"
    }
   ],
   "source": [
    "li.find('time').attrs['datetime']"
   ]
  },
  {
   "cell_type": "code",
   "execution_count": 12,
   "metadata": {},
   "outputs": [],
   "source": [
    "def parse_li(li):\n",
    "    return {\n",
    "        'event': li.find('a').text,\n",
    "        'link': li.find('a').attrs['href'],\n",
    "        'start': li.find('time').attrs['datetime'],\n",
    "    }"
   ]
  },
  {
   "cell_type": "code",
   "execution_count": 13,
   "metadata": {},
   "outputs": [],
   "source": [
    "events = [parse_li(li) for li in lis]"
   ]
  },
  {
   "cell_type": "code",
   "execution_count": 14,
   "metadata": {},
   "outputs": [
    {
     "data": {
      "text/plain": [
       "[{'event': 'PyCon Sweden 2021',\n",
       "  'link': '/events/python-events/1093/',\n",
       "  'start': '2021-10-21T00:00:00+00:00'},\n",
       " {'event': 'Plone Conference 2021 Online',\n",
       "  'link': '/events/python-events/1144/',\n",
       "  'start': '2021-10-23T00:00:00+00:00'},\n",
       " {'event': 'Python Meeting Düsseldorf',\n",
       "  'link': '/events/python-user-group/1156/',\n",
       "  'start': '2021-10-27T16:00:00+00:00'},\n",
       " {'event': 'PyData Global 2021',\n",
       "  'link': '/events/python-events/1143/',\n",
       "  'start': '2021-10-28T00:00:00+00:00'},\n",
       " {'event': 'PyCon Chile',\n",
       "  'link': '/events/python-events/1140/',\n",
       "  'start': '2021-11-05T00:00:00+00:00'},\n",
       " {'event': 'Django Girls Groningen',\n",
       "  'link': '/events/python-user-group/1148/',\n",
       "  'start': '2021-11-13T09:00:00+00:00'},\n",
       " {'event': 'PyCon Japan 2021',\n",
       "  'link': '/events/python-events/1154/',\n",
       "  'start': '2021-11-15T00:00:00+00:00'},\n",
       " {'event': 'PyCon APAC 2021',\n",
       "  'link': '/events/python-events/1104/',\n",
       "  'start': '2021-11-19T00:00:00+00:00'},\n",
       " {'event': 'Xtreme Python',\n",
       "  'link': '/events/python-events/1044/',\n",
       "  'start': '2021-11-24T00:00:00+00:00'},\n",
       " {'event': 'FlaskCon 2021 Online',\n",
       "  'link': '/events/python-events/1153/',\n",
       "  'start': '2021-12-01T00:00:00+00:00'},\n",
       " {'event': 'FlaskCon 2021 Online',\n",
       "  'link': '/events/python-events/1152/',\n",
       "  'start': '2021-12-01T00:00:00+00:00'},\n",
       " {'event': 'PyCon Tanzania',\n",
       "  'link': '/events/python-events/1155/',\n",
       "  'start': '2021-12-01T00:00:00+00:00'},\n",
       " {'event': 'PyCon Indonesia 2021',\n",
       "  'link': '/events/python-events/1157/',\n",
       "  'start': '2021-12-04T00:00:00+00:00'},\n",
       " {'event': 'PyCon Namibia 2022',\n",
       "  'link': '/events/python-events/1003/',\n",
       "  'start': '2022-02-17T00:00:00+00:00'},\n",
       " {'event': 'Kiwi PyCon',\n",
       "  'link': '/events/python-events/1092/',\n",
       "  'start': '2022-02-18T00:00:00+00:00'},\n",
       " {'event': 'PyCon US 2022',\n",
       "  'link': '/events/python-events/1146/',\n",
       "  'start': '2022-04-27T00:00:00+00:00'},\n",
       " {'event': 'PyCon Italy 12',\n",
       "  'link': '/events/python-events/1103/',\n",
       "  'start': '2022-06-02T00:00:00+00:00'},\n",
       " {'event': 'EuroPython 2022',\n",
       "  'link': '/events/python-events/989/',\n",
       "  'start': '2022-07-11T00:00:00+00:00'},\n",
       " {'event': 'PyCon UK 2022',\n",
       "  'link': '/events/python-events/1091/',\n",
       "  'start': '2022-09-16T00:00:00+00:00'},\n",
       " {'event': 'PyCon US 2023',\n",
       "  'link': '/events/python-events/1145/',\n",
       "  'start': '2023-04-19T00:00:00+00:00'}]"
      ]
     },
     "execution_count": 14,
     "metadata": {},
     "output_type": "execute_result"
    }
   ],
   "source": [
    "events"
   ]
  },
  {
   "cell_type": "code",
   "execution_count": 15,
   "metadata": {},
   "outputs": [],
   "source": [
    "page = base + '/events/python-events/1043/'"
   ]
  },
  {
   "cell_type": "code",
   "execution_count": 16,
   "metadata": {},
   "outputs": [],
   "source": [
    "soup = Soup(get(page))\n",
    "website = soup.find(\n",
    "    'div', {'class': 'event-description'}\n",
    ").find('a').attrs['href']"
   ]
  },
  {
   "cell_type": "code",
   "execution_count": 17,
   "metadata": {},
   "outputs": [],
   "source": [
    "def find_conf_website(link):\n",
    "    soup = Soup(get(link))\n",
    "    return soup.find(\n",
    "        'div', {'class': 'event-description'}\n",
    "    ).find('a').attrs['href']"
   ]
  },
  {
   "cell_type": "code",
   "execution_count": 18,
   "metadata": {},
   "outputs": [
    {
     "data": {
      "text/plain": [
       "'https://by.pycon.org/'"
      ]
     },
     "execution_count": 18,
     "metadata": {},
     "output_type": "execute_result"
    }
   ],
   "source": [
    "find_conf_website(\"https://www.python.org/events/python-events/1043/\")"
   ]
  },
  {
   "cell_type": "code",
   "execution_count": 19,
   "metadata": {},
   "outputs": [
    {
     "name": "stderr",
     "output_type": "stream",
     "text": [
      "100%|██████████| 20/20 [00:13<00:00,  1.46it/s]\n"
     ]
    }
   ],
   "source": [
    "import time\n",
    "import random\n",
    "from tqdm import tqdm\n",
    "from urllib.error import URLError\n",
    "\n",
    "websites = []\n",
    "for event in tqdm(events):\n",
    "    link = base + event['link']\n",
    "    try:\n",
    "        website = find_conf_website(link)\n",
    "        websites.append(website)\n",
    "    except:\n",
    "        pass\n",
    "    time.sleep(random.uniform(1, 10) / 10)"
   ]
  },
  {
   "cell_type": "code",
   "execution_count": 20,
   "metadata": {},
   "outputs": [
    {
     "data": {
      "text/plain": [
       "['https://2021.ploneconf.org/',\n",
       " \"https://www.pyddf.de/>Python Meeting Düsseldorf</a>\\n                    </div>\\n                </article>\\n                \\n                \\n                <!-- Next or Previous Events by date and location (Keep them in the sphere of this Event's location, or only sort by date?) -->\\n                <p class=\",\n",
       " 'https://pydata.org/global2021/',\n",
       " 'https://pycon.cl/',\n",
       " 'https://djangogirls.org/groningen/',\n",
       " 'https://th.pycon.org/',\n",
       " 'https://xtremepython.dev/',\n",
       " 'http://pycon.or.tz/',\n",
       " 'https://pycon.id/',\n",
       " 'https://na.pycon.org/',\n",
       " '“https://python.nz/kiwipycon“',\n",
       " 'https://us.pycon.org/2022/',\n",
       " 'https://pycon.it/en',\n",
       " 'https://www.europython.eu/',\n",
       " 'https://2022.pyconuk.org/',\n",
       " 'https://us.pycon.org/2023/']"
      ]
     },
     "execution_count": 20,
     "metadata": {},
     "output_type": "execute_result"
    }
   ],
   "source": [
    "websites"
   ]
  },
  {
   "cell_type": "markdown",
   "metadata": {},
   "source": [
    "### Exercise \n",
    "\n",
    "Use Wikipedia to scrape the ages for: Bernie Sanders, Joe Biden, and Donald Trump"
   ]
  },
  {
   "cell_type": "code",
   "execution_count": null,
   "metadata": {},
   "outputs": [],
   "source": [
    "%load ../solutions/1-code.py"
   ]
  }
 ],
 "metadata": {
  "kernelspec": {
   "display_name": "Python 3",
   "language": "python",
   "name": "python3"
  },
  "language_info": {
   "codemirror_mode": {
    "name": "ipython",
    "version": 3
   },
   "file_extension": ".py",
   "mimetype": "text/x-python",
   "name": "python",
   "nbconvert_exporter": "python",
   "pygments_lexer": "ipython3",
   "version": "3.9.5"
  }
 },
 "nbformat": 4,
 "nbformat_minor": 2
}

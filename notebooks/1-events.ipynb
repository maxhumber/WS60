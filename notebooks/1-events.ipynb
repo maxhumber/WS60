{
 "cells": [
  {
   "cell_type": "code",
   "execution_count": 1,
   "metadata": {},
   "outputs": [],
   "source": [
    "from gazpacho import get, Soup"
   ]
  },
  {
   "cell_type": "code",
   "execution_count": 2,
   "metadata": {},
   "outputs": [],
   "source": [
    "base = 'https://www.python.org'\n",
    "url = base + '/events/'"
   ]
  },
  {
   "cell_type": "code",
   "execution_count": 3,
   "metadata": {},
   "outputs": [],
   "source": [
    "html = get(url)"
   ]
  },
  {
   "cell_type": "code",
   "execution_count": 4,
   "metadata": {},
   "outputs": [],
   "source": [
    "soup = Soup(html)"
   ]
  },
  {
   "cell_type": "code",
   "execution_count": 5,
   "metadata": {},
   "outputs": [],
   "source": [
    "ul = soup.find('ul', {'class': 'list-recent-events menu'})"
   ]
  },
  {
   "cell_type": "code",
   "execution_count": 6,
   "metadata": {},
   "outputs": [
    {
     "data": {
      "text/plain": [
       "14"
      ]
     },
     "execution_count": 6,
     "metadata": {},
     "output_type": "execute_result"
    }
   ],
   "source": [
    "lis = ul.find('li')\n",
    "len(lis)"
   ]
  },
  {
   "cell_type": "code",
   "execution_count": 7,
   "metadata": {},
   "outputs": [],
   "source": [
    "li = lis[0]"
   ]
  },
  {
   "cell_type": "code",
   "execution_count": 8,
   "metadata": {},
   "outputs": [
    {
     "name": "stdout",
     "output_type": "stream",
     "text": [
      "<li>\n",
      "  <h3 class=\"event-title\">\n",
      "    <a href=\"/events/python-events/1043/\">PyCon Belarus 2021</a>\n",
      "  </h3>\n",
      "  <p>\n",
      "    <time datetime=\"2021-03-13T00:00:00+00:00\">\n",
      "      13 March\n",
      "      <span class=\"say-no-more\"> 2021</span>\n",
      "    </time>\n",
      "    <span class=\"event-location\">Online</span>\n",
      "  </p>\n",
      "</li>\n"
     ]
    }
   ],
   "source": [
    "print(li)"
   ]
  },
  {
   "cell_type": "code",
   "execution_count": 9,
   "metadata": {},
   "outputs": [
    {
     "data": {
      "text/plain": [
       "'PyCon Belarus 2021'"
      ]
     },
     "execution_count": 9,
     "metadata": {},
     "output_type": "execute_result"
    }
   ],
   "source": [
    "li.find('a').text"
   ]
  },
  {
   "cell_type": "code",
   "execution_count": 10,
   "metadata": {},
   "outputs": [
    {
     "data": {
      "text/plain": [
       "'/events/python-events/1043/'"
      ]
     },
     "execution_count": 10,
     "metadata": {},
     "output_type": "execute_result"
    }
   ],
   "source": [
    "li.find('a').attrs['href']"
   ]
  },
  {
   "cell_type": "code",
   "execution_count": 11,
   "metadata": {},
   "outputs": [
    {
     "data": {
      "text/plain": [
       "'2021-03-13T00:00:00+00:00'"
      ]
     },
     "execution_count": 11,
     "metadata": {},
     "output_type": "execute_result"
    }
   ],
   "source": [
    "li.find('time').attrs['datetime']"
   ]
  },
  {
   "cell_type": "code",
   "execution_count": 12,
   "metadata": {},
   "outputs": [],
   "source": [
    "def parse_li(li):\n",
    "    return {\n",
    "        'event': li.find('a').text,\n",
    "        'link': li.find('a').attrs['href'],\n",
    "        'start': li.find('time').attrs['datetime'],\n",
    "    }"
   ]
  },
  {
   "cell_type": "code",
   "execution_count": 13,
   "metadata": {},
   "outputs": [],
   "source": [
    "events = [parse_li(li) for li in lis]"
   ]
  },
  {
   "cell_type": "code",
   "execution_count": 14,
   "metadata": {},
   "outputs": [
    {
     "data": {
      "text/plain": [
       "[{'event': 'PyCon Belarus 2021',\n",
       "  'link': '/events/python-events/1043/',\n",
       "  'start': '2021-03-13T00:00:00+00:00'},\n",
       " {'event': 'PyCon Cameroon 2021',\n",
       "  'link': '/events/python-events/995/',\n",
       "  'start': '2021-03-18T00:00:00+00:00'},\n",
       " {'event': 'Python Web Conference 2021',\n",
       "  'link': '/events/python-events/1041/',\n",
       "  'start': '2021-03-22T00:00:00+00:00'},\n",
       " {'event': 'An introduction to delivering technical presentations with confidence - PyLadies Amsterdam',\n",
       "  'link': '/events/python-user-group/1047/',\n",
       "  'start': '2021-03-25T17:30:00+00:00'},\n",
       " {'event': \"Python for ML and AI Global Summit'21\",\n",
       "  'link': '/events/python-events/1046/',\n",
       "  'start': '2021-04-08T00:00:00+00:00'},\n",
       " {'event': 'GeoPython 2021',\n",
       "  'link': '/events/python-events/1002/',\n",
       "  'start': '2021-04-22T00:00:00+00:00'},\n",
       " {'event': 'PyCon US 2021',\n",
       "  'link': '/events/python-events/893/',\n",
       "  'start': '2021-05-12T00:00:00+00:00'},\n",
       " {'event': 'DjangoCon Europe 2021',\n",
       "  'link': '/events/python-events/1048/',\n",
       "  'start': '2021-06-02T00:00:00+00:00'},\n",
       " {'event': 'PyCon Namibia 2021',\n",
       "  'link': '/events/python-events/1036/',\n",
       "  'start': '2021-06-18T00:00:00+00:00'},\n",
       " {'event': 'SciPy 2021',\n",
       "  'link': '/events/python-events/833/',\n",
       "  'start': '2021-07-12T00:00:00+00:00'},\n",
       " {'event': 'EuroPython 2021',\n",
       "  'link': '/events/python-events/964/',\n",
       "  'start': '2021-07-26T00:00:00+00:00'},\n",
       " {'event': 'Xtreme Python',\n",
       "  'link': '/events/python-events/1044/',\n",
       "  'start': '2021-11-24T00:00:00+00:00'},\n",
       " {'event': 'PyCon Namibia 2022',\n",
       "  'link': '/events/python-events/1003/',\n",
       "  'start': '2022-02-17T00:00:00+00:00'},\n",
       " {'event': 'EuroPython 2022',\n",
       "  'link': '/events/python-events/989/',\n",
       "  'start': '2022-07-11T00:00:00+00:00'}]"
      ]
     },
     "execution_count": 14,
     "metadata": {},
     "output_type": "execute_result"
    }
   ],
   "source": [
    "events"
   ]
  },
  {
   "cell_type": "code",
   "execution_count": 15,
   "metadata": {},
   "outputs": [],
   "source": [
    "page = base + '/events/python-events/1043/'"
   ]
  },
  {
   "cell_type": "code",
   "execution_count": 16,
   "metadata": {},
   "outputs": [],
   "source": [
    "soup = Soup(get(page))\n",
    "website = soup.find(\n",
    "    'div', {'class': 'event-description'}\n",
    ").find('a').attrs['href']"
   ]
  },
  {
   "cell_type": "code",
   "execution_count": 17,
   "metadata": {},
   "outputs": [],
   "source": [
    "def find_conf_website(link):\n",
    "    soup = Soup(get(link))\n",
    "    return soup.find(\n",
    "        'div', {'class': 'event-description'}\n",
    "    ).find('a').attrs['href']"
   ]
  },
  {
   "cell_type": "code",
   "execution_count": 18,
   "metadata": {},
   "outputs": [
    {
     "data": {
      "text/plain": [
       "'https://by.pycon.org/'"
      ]
     },
     "execution_count": 18,
     "metadata": {},
     "output_type": "execute_result"
    }
   ],
   "source": [
    "find_conf_website(\"https://www.python.org/events/python-events/1043/\")"
   ]
  },
  {
   "cell_type": "code",
   "execution_count": 19,
   "metadata": {},
   "outputs": [
    {
     "name": "stderr",
     "output_type": "stream",
     "text": [
      "100%|██████████| 14/14 [00:37<00:00,  2.69s/it]\n"
     ]
    }
   ],
   "source": [
    "import time\n",
    "import random\n",
    "from tqdm import tqdm\n",
    "from urllib.error import URLError\n",
    "\n",
    "websites = []\n",
    "for event in tqdm(events):\n",
    "    link = base + event['link']\n",
    "    try:\n",
    "        website = find_conf_website(link)\n",
    "        websites.append(website)\n",
    "    except:\n",
    "        pass\n",
    "    time.sleep(random.uniform(1, 10) / 10)"
   ]
  },
  {
   "cell_type": "code",
   "execution_count": 20,
   "metadata": {},
   "outputs": [
    {
     "data": {
      "text/plain": [
       "['https://by.pycon.org/',\n",
       " 'http://pythoncm.org/pycon.html',\n",
       " 'https://pythonwebconference.com',\n",
       " 'https://www.meetup.com/PyLadiesAMS/events/276226625/',\n",
       " 'https://python.geekle.us/',\n",
       " 'http://2021.geopython.net/',\n",
       " 'https://us.pycon.org/2021/',\n",
       " 'https://2021.djangocon.eu/',\n",
       " 'https://na.pycon.org/',\n",
       " 'https://www.scipy2021.scipy.org/',\n",
       " 'https://www.europython.eu/',\n",
       " 'https://xtremepython.dev/',\n",
       " 'https://na.pycon.org/',\n",
       " 'https://www.europython.eu/']"
      ]
     },
     "execution_count": 20,
     "metadata": {},
     "output_type": "execute_result"
    }
   ],
   "source": [
    "websites"
   ]
  },
  {
   "cell_type": "markdown",
   "metadata": {},
   "source": [
    "### Exercise \n",
    "\n",
    "Use Wikipedia to scrape the ages for: Bernie Sanders, Joe Biden, and Donald Trump"
   ]
  },
  {
   "cell_type": "code",
   "execution_count": null,
   "metadata": {},
   "outputs": [],
   "source": [
    "%load ../solutions/1-code.py"
   ]
  }
 ],
 "metadata": {
  "kernelspec": {
   "display_name": "Python 3",
   "language": "python",
   "name": "python3"
  },
  "language_info": {
   "codemirror_mode": {
    "name": "ipython",
    "version": 3
   },
   "file_extension": ".py",
   "mimetype": "text/x-python",
   "name": "python",
   "nbconvert_exporter": "python",
   "pygments_lexer": "ipython3",
   "version": "3.8.3"
  }
 },
 "nbformat": 4,
 "nbformat_minor": 2
}

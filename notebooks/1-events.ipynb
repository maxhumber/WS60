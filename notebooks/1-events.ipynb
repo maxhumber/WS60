{
 "cells": [
  {
   "cell_type": "code",
   "execution_count": 1,
   "metadata": {},
   "outputs": [],
   "source": [
    "from gazpacho import get, Soup"
   ]
  },
  {
   "cell_type": "code",
   "execution_count": 2,
   "metadata": {},
   "outputs": [],
   "source": [
    "base = 'https://www.python.org'\n",
    "url = base + '/events/'"
   ]
  },
  {
   "cell_type": "code",
   "execution_count": 3,
   "metadata": {},
   "outputs": [],
   "source": [
    "html = get(url)"
   ]
  },
  {
   "cell_type": "code",
   "execution_count": 4,
   "metadata": {},
   "outputs": [],
   "source": [
    "soup = Soup(html)"
   ]
  },
  {
   "cell_type": "code",
   "execution_count": 5,
   "metadata": {},
   "outputs": [],
   "source": [
    "ul = soup.find('ul', {'class': 'list-recent-events menu'})"
   ]
  },
  {
   "cell_type": "code",
   "execution_count": 6,
   "metadata": {},
   "outputs": [
    {
     "data": {
      "text/plain": [
       "15"
      ]
     },
     "execution_count": 6,
     "metadata": {},
     "output_type": "execute_result"
    }
   ],
   "source": [
    "lis = ul.find('li')\n",
    "len(lis)"
   ]
  },
  {
   "cell_type": "code",
   "execution_count": 7,
   "metadata": {},
   "outputs": [],
   "source": [
    "li = lis[0]"
   ]
  },
  {
   "cell_type": "code",
   "execution_count": 8,
   "metadata": {},
   "outputs": [
    {
     "name": "stdout",
     "output_type": "stream",
     "text": [
      "<li>\n",
      "  <h3 class=\"event-title\">\n",
      "    <a href=\"/events/python-user-group/1253/\">Python Meeting Düsseldorf</a>\n",
      "  </h3>\n",
      "  <p>\n",
      "    <time datetime=\"2022-06-08T16:00:00+00:00\">\n",
      "      08 June\n",
      "      <span class=\"say-no-more\"> 2022</span>\n",
      "       4pm UTC – 6pm UTC\n",
      "    </time>\n",
      "    <span class=\"event-location\">Düsseldorf, Germany</span>\n",
      "  </p>\n",
      "</li>\n"
     ]
    }
   ],
   "source": [
    "print(li)"
   ]
  },
  {
   "cell_type": "code",
   "execution_count": 9,
   "metadata": {},
   "outputs": [
    {
     "data": {
      "text/plain": [
       "'Python Meeting Düsseldorf'"
      ]
     },
     "execution_count": 9,
     "metadata": {},
     "output_type": "execute_result"
    }
   ],
   "source": [
    "li.find('a').text"
   ]
  },
  {
   "cell_type": "code",
   "execution_count": 10,
   "metadata": {},
   "outputs": [
    {
     "data": {
      "text/plain": [
       "'/events/python-user-group/1253/'"
      ]
     },
     "execution_count": 10,
     "metadata": {},
     "output_type": "execute_result"
    }
   ],
   "source": [
    "li.find('a').attrs['href']"
   ]
  },
  {
   "cell_type": "code",
   "execution_count": 11,
   "metadata": {},
   "outputs": [
    {
     "data": {
      "text/plain": [
       "'2022-06-08T16:00:00+00:00'"
      ]
     },
     "execution_count": 11,
     "metadata": {},
     "output_type": "execute_result"
    }
   ],
   "source": [
    "li.find('time').attrs['datetime']"
   ]
  },
  {
   "cell_type": "code",
   "execution_count": 12,
   "metadata": {},
   "outputs": [],
   "source": [
    "def parse_li(li):\n",
    "    return {\n",
    "        'event': li.find('a').text,\n",
    "        'link': li.find('a').attrs['href'],\n",
    "        'start': li.find('time').attrs['datetime'],\n",
    "    }"
   ]
  },
  {
   "cell_type": "code",
   "execution_count": 13,
   "metadata": {},
   "outputs": [],
   "source": [
    "events = [parse_li(li) for li in lis]"
   ]
  },
  {
   "cell_type": "code",
   "execution_count": 14,
   "metadata": {},
   "outputs": [
    {
     "data": {
      "text/plain": [
       "[{'event': 'Python Meeting Düsseldorf',\n",
       "  'link': '/events/python-user-group/1253/',\n",
       "  'start': '2022-06-08T16:00:00+00:00'},\n",
       " {'event': 'Python Live: An Introduction to Practical MLOps',\n",
       "  'link': '/events/python-user-group/1261/',\n",
       "  'start': '2022-06-09T16:30:00+00:00'},\n",
       " {'event': 'Software Craftsmanship',\n",
       "  'link': '/events/python-user-group/1265/',\n",
       "  'start': '2022-06-15T06:00:00+00:00'},\n",
       " {'event': 'GeoPython 2022',\n",
       "  'link': '/events/python-events/1202/',\n",
       "  'start': '2022-06-20T00:00:00+00:00'},\n",
       " {'event': '(Hybrid) A Deep Dive into Containerized Model Serving with FastAPI',\n",
       "  'link': '/events/python-user-group/1264/',\n",
       "  'start': '2022-06-28T16:15:00+00:00'},\n",
       " {'event': 'EuroPython 2022',\n",
       "  'link': '/events/python-events/989/',\n",
       "  'start': '2022-07-11T00:00:00+00:00'},\n",
       " {'event': 'Kiwi PyCon XI',\n",
       "  'link': '/events/python-events/1092/',\n",
       "  'start': '2022-08-19T00:00:00+00:00'},\n",
       " {'event': 'EuroSciPy 2022',\n",
       "  'link': '/events/python-events/1263/',\n",
       "  'start': '2022-08-29T00:00:00+00:00'},\n",
       " {'event': 'PyCon APAC 2022',\n",
       "  'link': '/events/python-events/1216/',\n",
       "  'start': '2022-09-03T00:00:00+00:00'},\n",
       " {'event': 'PyCon SK 2022',\n",
       "  'link': '/events/python-events/1259/',\n",
       "  'start': '2022-09-09T00:00:00+00:00'},\n",
       " {'event': 'PyCon UK 2022',\n",
       "  'link': '/events/python-events/1091/',\n",
       "  'start': '2022-09-16T00:00:00+00:00'},\n",
       " {'event': 'DjangoCon Europe 2022',\n",
       "  'link': '/events/python-events/1209/',\n",
       "  'start': '2022-09-21T00:00:00+00:00'},\n",
       " {'event': 'PyCon Portugal 2022',\n",
       "  'link': '/events/python-events/1208/',\n",
       "  'start': '2022-09-24T00:00:00+00:00'},\n",
       " {'event': 'PyCon JP 2022',\n",
       "  'link': '/events/python-events/1255/',\n",
       "  'start': '2022-10-14T00:00:00+00:00'},\n",
       " {'event': 'PyCon US 2023',\n",
       "  'link': '/events/python-events/1145/',\n",
       "  'start': '2023-04-19T00:00:00+00:00'}]"
      ]
     },
     "execution_count": 14,
     "metadata": {},
     "output_type": "execute_result"
    }
   ],
   "source": [
    "events"
   ]
  },
  {
   "cell_type": "code",
   "execution_count": 15,
   "metadata": {},
   "outputs": [],
   "source": [
    "page = base + '/events/python-events/1043/'"
   ]
  },
  {
   "cell_type": "code",
   "execution_count": 16,
   "metadata": {},
   "outputs": [],
   "source": [
    "soup = Soup(get(page))\n",
    "website = soup.find(\n",
    "    'div', {'class': 'event-description'}\n",
    ").find('a').attrs['href']"
   ]
  },
  {
   "cell_type": "code",
   "execution_count": 17,
   "metadata": {},
   "outputs": [],
   "source": [
    "def find_conf_website(link):\n",
    "    soup = Soup(get(link))\n",
    "    return soup.find(\n",
    "        'div', {'class': 'event-description'}\n",
    "    ).find('a').attrs['href']"
   ]
  },
  {
   "cell_type": "code",
   "execution_count": 18,
   "metadata": {},
   "outputs": [
    {
     "data": {
      "text/plain": [
       "'https://by.pycon.org/'"
      ]
     },
     "execution_count": 18,
     "metadata": {},
     "output_type": "execute_result"
    }
   ],
   "source": [
    "find_conf_website(\"https://www.python.org/events/python-events/1043/\")"
   ]
  },
  {
   "cell_type": "code",
   "execution_count": 19,
   "metadata": {},
   "outputs": [
    {
     "name": "stderr",
     "output_type": "stream",
     "text": [
      "100%|███████████████████████████████████████████| 15/15 [00:11<00:00,  1.31it/s]\n"
     ]
    }
   ],
   "source": [
    "import time\n",
    "import random\n",
    "from tqdm import tqdm\n",
    "from urllib.error import URLError\n",
    "\n",
    "websites = []\n",
    "for event in tqdm(events):\n",
    "    link = base + event['link']\n",
    "    try:\n",
    "        website = find_conf_website(link)\n",
    "        websites.append(website)\n",
    "    except:\n",
    "        pass\n",
    "    time.sleep(random.uniform(1, 10) / 10)"
   ]
  },
  {
   "cell_type": "code",
   "execution_count": 20,
   "metadata": {},
   "outputs": [
    {
     "data": {
      "text/plain": [
       "['https://www.pyddf.de/',\n",
       " 'https://www.eventbrite.co.uk/e/python-live-an-introduction-to-practical-mlops-tickets-323891256467',\n",
       " 'http://www.meetup.com/NZPUG-Auckland/events/285982939/',\n",
       " 'https://2022.geopython.net/',\n",
       " 'https://www.meetup.com/PyLadiesAMS/events/285821531/',\n",
       " 'https://www.europython.eu/',\n",
       " 'https://python.nz/kiwipycon',\n",
       " 'https://www.euroscipy.org/2022/',\n",
       " 'https://tw.pycon.org/',\n",
       " 'https://2022.pycon.sk/en/',\n",
       " 'https://2022.pyconuk.org/',\n",
       " 'https://2022.djangocon.eu/',\n",
       " 'https://2022.pycon.pt/',\n",
       " 'https://2022.pycon.jp/',\n",
       " 'https://us.pycon.org/2023/']"
      ]
     },
     "execution_count": 20,
     "metadata": {},
     "output_type": "execute_result"
    }
   ],
   "source": [
    "websites"
   ]
  },
  {
   "cell_type": "markdown",
   "metadata": {},
   "source": [
    "### Exercise \n",
    "\n",
    "Use Wikipedia to scrape the ages for: Bernie Sanders, Joe Biden, and Donald Trump"
   ]
  },
  {
   "cell_type": "code",
   "execution_count": null,
   "metadata": {},
   "outputs": [],
   "source": [
    "%load ../solutions/1-code.py"
   ]
  }
 ],
 "metadata": {
  "kernelspec": {
   "display_name": "WS60.venv",
   "language": "python",
   "name": "ws60.venv"
  },
  "language_info": {
   "codemirror_mode": {
    "name": "ipython",
    "version": 3
   },
   "file_extension": ".py",
   "mimetype": "text/x-python",
   "name": "python",
   "nbconvert_exporter": "python",
   "pygments_lexer": "ipython3",
   "version": "3.9.11"
  }
 },
 "nbformat": 4,
 "nbformat_minor": 2
}

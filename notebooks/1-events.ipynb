{
 "cells": [
  {
   "cell_type": "code",
   "execution_count": 1,
   "metadata": {},
   "outputs": [],
   "source": [
    "from gazpacho import get, Soup"
   ]
  },
  {
   "cell_type": "code",
   "execution_count": 2,
   "metadata": {},
   "outputs": [],
   "source": [
    "base = 'https://www.python.org'\n",
    "url = base + '/events/'"
   ]
  },
  {
   "cell_type": "code",
   "execution_count": 3,
   "metadata": {},
   "outputs": [],
   "source": [
    "html = get(url)"
   ]
  },
  {
   "cell_type": "code",
   "execution_count": 4,
   "metadata": {},
   "outputs": [],
   "source": [
    "soup = Soup(html)"
   ]
  },
  {
   "cell_type": "code",
   "execution_count": 5,
   "metadata": {},
   "outputs": [],
   "source": [
    "ul = soup.find('ul', {'class': 'list-recent-events menu'})"
   ]
  },
  {
   "cell_type": "code",
   "execution_count": 6,
   "metadata": {},
   "outputs": [
    {
     "data": {
      "text/plain": [
       "13"
      ]
     },
     "execution_count": 6,
     "metadata": {},
     "output_type": "execute_result"
    }
   ],
   "source": [
    "lis = ul.find('li')\n",
    "len(lis)"
   ]
  },
  {
   "cell_type": "code",
   "execution_count": 7,
   "metadata": {},
   "outputs": [],
   "source": [
    "li = lis[0]"
   ]
  },
  {
   "cell_type": "code",
   "execution_count": 8,
   "metadata": {},
   "outputs": [
    {
     "name": "stdout",
     "output_type": "stream",
     "text": [
      "<li>\n",
      "  <h3 class=\"event-title\">\n",
      "    <a href=\"/events/python-events/973/\">SciPy Japan 2020</a>\n",
      "  </h3>\n",
      "  <p>\n",
      "    <time datetime=\"2020-10-30T00:00:00+00:00\">\n",
      "      30 Oct. – 02 Nov. \n",
      "      <span class=\"say-no-more\"> 2020</span>\n",
      "    </time>\n",
      "    <span class=\"event-location\">Online</span>\n",
      "  </p>\n",
      "</li>\n"
     ]
    }
   ],
   "source": [
    "print(li)"
   ]
  },
  {
   "cell_type": "code",
   "execution_count": 9,
   "metadata": {},
   "outputs": [
    {
     "data": {
      "text/plain": [
       "'SciPy Japan 2020'"
      ]
     },
     "execution_count": 9,
     "metadata": {},
     "output_type": "execute_result"
    }
   ],
   "source": [
    "li.find('a').text"
   ]
  },
  {
   "cell_type": "code",
   "execution_count": 10,
   "metadata": {},
   "outputs": [
    {
     "data": {
      "text/plain": [
       "'/events/python-events/973/'"
      ]
     },
     "execution_count": 10,
     "metadata": {},
     "output_type": "execute_result"
    }
   ],
   "source": [
    "li.find('a').attrs['href']"
   ]
  },
  {
   "cell_type": "code",
   "execution_count": 11,
   "metadata": {},
   "outputs": [
    {
     "data": {
      "text/plain": [
       "'2020-10-30T00:00:00+00:00'"
      ]
     },
     "execution_count": 11,
     "metadata": {},
     "output_type": "execute_result"
    }
   ],
   "source": [
    "li.find('time').attrs['datetime']"
   ]
  },
  {
   "cell_type": "code",
   "execution_count": 12,
   "metadata": {},
   "outputs": [],
   "source": [
    "def parse_li(li):\n",
    "    return {\n",
    "        'event': li.find('a').text,\n",
    "        'link': li.find('a').attrs['href'],\n",
    "        'start': li.find('time').attrs['datetime'],\n",
    "    }"
   ]
  },
  {
   "cell_type": "code",
   "execution_count": 13,
   "metadata": {},
   "outputs": [],
   "source": [
    "events = [parse_li(li) for li in lis]"
   ]
  },
  {
   "cell_type": "code",
   "execution_count": 14,
   "metadata": {},
   "outputs": [
    {
     "data": {
      "text/plain": [
       "[{'event': 'SciPy Japan 2020',\n",
       "  'link': '/events/python-events/973/',\n",
       "  'start': '2020-10-30T00:00:00+00:00'},\n",
       " {'event': 'PyData London 2020 (cancelled)',\n",
       "  'link': '/events/python-events/954/',\n",
       "  'start': '2020-10-30T00:00:00+00:00'},\n",
       " {'event': 'Python Brasil 2020',\n",
       "  'link': '/events/python-events/877/',\n",
       "  'start': '2020-11-02T00:00:00+00:00'},\n",
       " {'event': 'PyCon Italia 2020 (cancelled)',\n",
       "  'link': '/events/python-events/884/',\n",
       "  'start': '2020-11-05T00:00:00+00:00'},\n",
       " {'event': 'PyCon Sweden 2020',\n",
       "  'link': '/events/python-events/984/',\n",
       "  'start': '2020-11-12T00:00:00+00:00'},\n",
       " {'event': 'PyCon Indonesia 2020',\n",
       "  'link': '/events/python-events/986/',\n",
       "  'start': '2020-11-14T00:00:00+00:00'},\n",
       " {'event': 'PyHPC 2020: 9th Workshop on Python for,High-Performance and Scientific Computing',\n",
       "  'link': '/events/python-events/983/',\n",
       "  'start': '2020-11-15T00:00:00+00:00'},\n",
       " {'event': \"Online Python Web Global Summit'20\",\n",
       "  'link': '/events/python-events/981/',\n",
       "  'start': '2020-11-19T00:00:00+00:00'},\n",
       " {'event': 'enterPy',\n",
       "  'link': '/events/python-user-group/903/',\n",
       "  'start': '2020-11-23T00:00:00+00:00'},\n",
       " {'event': 'PyCon US 2021',\n",
       "  'link': '/events/python-events/893/',\n",
       "  'start': '2021-05-12T00:00:00+00:00'},\n",
       " {'event': 'SciPy 2021',\n",
       "  'link': '/events/python-events/833/',\n",
       "  'start': '2021-07-12T00:00:00+00:00'},\n",
       " {'event': 'EuroPython 2021',\n",
       "  'link': '/events/python-events/964/',\n",
       "  'start': '2021-07-26T00:00:00+00:00'},\n",
       " {'event': 'EuroPython 2022',\n",
       "  'link': '/events/python-events/989/',\n",
       "  'start': '2022-07-11T00:00:00+00:00'}]"
      ]
     },
     "execution_count": 14,
     "metadata": {},
     "output_type": "execute_result"
    }
   ],
   "source": [
    "events"
   ]
  },
  {
   "cell_type": "code",
   "execution_count": 15,
   "metadata": {},
   "outputs": [],
   "source": [
    "page = base + '/events/python-events/884/'"
   ]
  },
  {
   "cell_type": "code",
   "execution_count": 16,
   "metadata": {},
   "outputs": [],
   "source": [
    "soup = Soup(get(page))\n",
    "website = soup.find(\n",
    "    'div', {'class': 'event-description'}\n",
    ").find('a').attrs['href']"
   ]
  },
  {
   "cell_type": "code",
   "execution_count": 17,
   "metadata": {},
   "outputs": [],
   "source": [
    "def find_conf_website(link):\n",
    "    soup = Soup(get(link))\n",
    "    return soup.find(\n",
    "        'div', {'class': 'event-description'}\n",
    "    ).find('a').attrs['href']"
   ]
  },
  {
   "cell_type": "code",
   "execution_count": 18,
   "metadata": {},
   "outputs": [
    {
     "name": "stderr",
     "output_type": "stream",
     "text": [
      "100%|██████████| 13/13 [00:13<00:00,  1.07s/it]\n"
     ]
    }
   ],
   "source": [
    "import time\n",
    "import random\n",
    "from tqdm import tqdm\n",
    "from urllib.error import URLError\n",
    "\n",
    "websites = []\n",
    "for event in tqdm(events):\n",
    "    link = base + event['link']\n",
    "    website = find_conf_website(link)\n",
    "    websites.append(website)\n",
    "    time.sleep(random.uniform(1, 10) / 10)"
   ]
  },
  {
   "cell_type": "code",
   "execution_count": 19,
   "metadata": {},
   "outputs": [
    {
     "data": {
      "text/plain": [
       "['https://www.scipyjapan.scipy.org',\n",
       " 'https://pydata.org/london2020',\n",
       " \"https://2020.pythonbrasil.org.br/>Python Brasil 2020</a>\\n                    </div>\\n                </article>\\n                \\n                \\n                <!-- Next or Previous Events by date and location (Keep them in the sphere of this Event's location, or only sort by date?) -->\\n                <p class=\",\n",
       " 'http://pycon.it/',\n",
       " 'http://www.pycon.se/',\n",
       " 'https://pycon.id/',\n",
       " 'https://www.pyhpc.io/',\n",
       " 'https://python.geekle.us/',\n",
       " 'https://www.enterpy.de/',\n",
       " 'https://us.pycon.org/2021/',\n",
       " 'https://www.scipy2021.scipy.org/',\n",
       " 'https://www.europython.eu/',\n",
       " 'https://www.europython.eu/']"
      ]
     },
     "execution_count": 19,
     "metadata": {},
     "output_type": "execute_result"
    }
   ],
   "source": [
    "websites"
   ]
  },
  {
   "cell_type": "markdown",
   "metadata": {},
   "source": [
    "### Exercise \n",
    "\n",
    "Use Wikipedia to scrape the ages for: Bernie Sanders, Joe Biden, and Donald Trump"
   ]
  },
  {
   "cell_type": "code",
   "execution_count": null,
   "metadata": {},
   "outputs": [],
   "source": [
    "%load ../solutions/1-code.py"
   ]
  }
 ],
 "metadata": {
  "kernelspec": {
   "display_name": "Python 3",
   "language": "python",
   "name": "python3"
  },
  "language_info": {
   "codemirror_mode": {
    "name": "ipython",
    "version": 3
   },
   "file_extension": ".py",
   "mimetype": "text/x-python",
   "name": "python",
   "nbconvert_exporter": "python",
   "pygments_lexer": "ipython3",
   "version": "3.8.3"
  }
 },
 "nbformat": 4,
 "nbformat_minor": 2
}

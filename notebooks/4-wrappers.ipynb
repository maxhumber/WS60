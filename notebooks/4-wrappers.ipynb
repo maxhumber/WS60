{
 "cells": [
  {
   "cell_type": "markdown",
   "metadata": {},
   "source": [
    "#### [Urban Dictionary](https://github.com/novel/py-urbandict)\n",
    "\n",
    "`pip install urbandict`"
   ]
  },
  {
   "cell_type": "code",
   "execution_count": 1,
   "metadata": {},
   "outputs": [
    {
     "data": {
      "text/plain": [
       "[{'word': 'elbump',\n",
       "  'def': 'noun - A bumping',\n",
       "  'example': 'Steve: Rob',\n",
       "  'category': ''},\n",
       " {'word': 'elbump',\n",
       "  'def': 'When you have the coronavirus',\n",
       "  'example': '1st dude: Hey dude!\\n2nd dude: Hey dude!\\n1st dude: *reaches out to give the other dude',\n",
       "  'category': ''},\n",
       " {'word': 'Elbump',\n",
       "  'def': 'A 2020 high five by bumping',\n",
       "  'example': 'We have to',\n",
       "  'category': ''}]"
      ]
     },
     "execution_count": 1,
     "metadata": {},
     "output_type": "execute_result"
    }
   ],
   "source": [
    "import urbandict\n",
    "\n",
    "urbandict.define('elbump')[:3]"
   ]
  },
  {
   "cell_type": "markdown",
   "metadata": {},
   "source": [
    "#### [Wikipedia](https://github.com/martin-majlis/Wikipedia-API/)\n",
    "`pip install wikipedia-api`"
   ]
  },
  {
   "cell_type": "code",
   "execution_count": 2,
   "metadata": {},
   "outputs": [],
   "source": [
    "from wikipediaapi import Wikipedia\n",
    "wiki = Wikipedia('en')"
   ]
  },
  {
   "cell_type": "code",
   "execution_count": 3,
   "metadata": {},
   "outputs": [
    {
     "data": {
      "text/plain": [
       "True"
      ]
     },
     "execution_count": 3,
     "metadata": {},
     "output_type": "execute_result"
    }
   ],
   "source": [
    "page = wiki.page('Coronavirus')\n",
    "page.exists()"
   ]
  },
  {
   "cell_type": "code",
   "execution_count": 4,
   "metadata": {},
   "outputs": [
    {
     "data": {
      "text/plain": [
       "'Coronaviruses are a group of related RNA viruses that cause diseases in mammals and birds. In humans and birds, they cause respiratory tract infections that can range from mild to lethal. Mild illnesses in humans include some cases of the common cold (which is also caused by other viruses, predominantly rhinoviruses), while more lethal varieties can cause SARS, MERS, and COVID-19. In cows and pigs they cause diarrhea, while in mice they cause hepatitis and encephalomyelitis.\\nCoronaviruses consti'"
      ]
     },
     "execution_count": 4,
     "metadata": {},
     "output_type": "execute_result"
    }
   ],
   "source": [
    "page.text[:500]"
   ]
  },
  {
   "cell_type": "markdown",
   "metadata": {},
   "source": [
    "#### [Goodreads Quotes](https://github.com/maxhumber/quote)\n",
    "`pip install quote`"
   ]
  },
  {
   "cell_type": "code",
   "execution_count": 5,
   "metadata": {},
   "outputs": [
    {
     "name": "stdout",
     "output_type": "stream",
     "text": [
      "Collecting quote\n",
      "  Downloading quote-2.0.4.tar.gz (4.1 kB)\n",
      "Requirement already satisfied: gazpacho>=1.0 in /Users/max/miniconda3/lib/python3.9/site-packages (from quote) (1.1)\n",
      "Building wheels for collected packages: quote\n",
      "  Building wheel for quote (setup.py) ... \u001b[?25ldone\n",
      "\u001b[?25h  Created wheel for quote: filename=quote-2.0.4-py3-none-any.whl size=5004 sha256=130e15ec6591545e2e6618e7d26a89ada3288e433bd28f15c0984afb7ce52e12\n",
      "  Stored in directory: /Users/max/Library/Caches/pip/wheels/ee/4f/43/664b254b12f9360a78a9cbbdd0201a01d196b98eeb232a39d6\n",
      "Successfully built quote\n",
      "Installing collected packages: quote\n",
      "Successfully installed quote-2.0.4\n"
     ]
    },
    {
     "data": {
      "text/plain": [
       "[{'author': 'Jasper Fforde',\n",
       "  'book': 'Something Rotten',\n",
       "  'quote': 'If the real world were a book, it would never find a publisher. Overlong, detailed to the point of distraction-and ultimately, without a major resolution.'},\n",
       " {'author': 'Jasper Fforde',\n",
       "  'book': 'The Well of Lost Plots',\n",
       "  'quote': \"After all, reading is arguably a far more creative and imaginative process than writing; when the reader creates emotion in their head, or the colors of the sky during the setting sun, or the smell of a warm summer's breeze on their face, they should reserve as much praise for themselves as they do for the writer - perhaps more.\"},\n",
       " {'author': 'Jasper Fforde',\n",
       "  'book': 'The Eyre Affair',\n",
       "  'quote': 'Take no heed of her.... She reads a lot of books.'},\n",
       " {'author': 'Jasper Fforde',\n",
       "  'book': 'First Among Sequels',\n",
       "  'quote': \"Whereas story is processed in the mind in a straightforward manner, poetry bypasses rational thought and goes straight to the limbic system and lights it up like a brushfire. It's the crack cocaine of the literary world.\"},\n",
       " {'author': 'Jasper Fforde',\n",
       "  'book': 'The Eyre Affair',\n",
       "  'quote': \"Don't ever call me mad, Mycroft. I'm not mad. I'm just ... well, differently moraled, that's all.\"}]"
      ]
     },
     "execution_count": 5,
     "metadata": {},
     "output_type": "execute_result"
    }
   ],
   "source": [
    "from quote import quote \n",
    "\n",
    "quote('Jasper Fforde', limit=5)"
   ]
  }
 ],
 "metadata": {
  "kernelspec": {
   "display_name": "Python 3",
   "language": "python",
   "name": "python3"
  },
  "language_info": {
   "codemirror_mode": {
    "name": "ipython",
    "version": 3
   },
   "file_extension": ".py",
   "mimetype": "text/x-python",
   "name": "python",
   "nbconvert_exporter": "python",
   "pygments_lexer": "ipython3",
   "version": "3.9.5"
  }
 },
 "nbformat": 4,
 "nbformat_minor": 2
}
